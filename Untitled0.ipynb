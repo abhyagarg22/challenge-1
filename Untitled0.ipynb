{
  "nbformat": 4,
  "nbformat_minor": 0,
  "metadata": {
    "colab": {
      "provenance": [],
      "authorship_tag": "ABX9TyM+y4UwNyf2cm3lCz1U15zC",
      "include_colab_link": true
    },
    "kernelspec": {
      "name": "python3",
      "display_name": "Python 3"
    },
    "language_info": {
      "name": "python"
    }
  },
  "cells": [
    {
      "cell_type": "markdown",
      "metadata": {
        "id": "view-in-github",
        "colab_type": "text"
      },
      "source": [
        "<a href=\"https://colab.research.google.com/github/abhyagarg22/challenge-1/blob/main/Untitled0.ipynb\" target=\"_parent\"><img src=\"https://colab.research.google.com/assets/colab-badge.svg\" alt=\"Open In Colab\"/></a>"
      ]
    },
    {
      "cell_type": "code",
      "execution_count": 4,
      "metadata": {
        "colab": {
          "base_uri": "https://localhost:8080/"
        },
        "id": "aDx2nM5Rtlyb",
        "outputId": "bc1dd8ec-6c92-4265-e468-ecdef8910529"
      },
      "outputs": [
        {
          "output_type": "stream",
          "name": "stdout",
          "text": [
            "['1', '2', '3', 'Aman', 'Ram', 'Shyam']\n",
            "total time 0.0013294219970703125\n"
          ]
        }
      ],
      "source": [
        "import time\n",
        "t1=time.time()\n",
        "\n",
        "L=[\"Ram\",1,\"Shyam\",2,\"Aman\",3]\n",
        "L=[str(i) for i in L]\n",
        "L.sort()\n",
        "print(L)\n",
        "t2=time.time()\n",
        "print(\"total time\",t2-t1)"
      ]
    }
  ]
}